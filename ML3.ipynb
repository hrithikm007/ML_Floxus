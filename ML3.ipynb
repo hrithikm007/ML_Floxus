{
  "nbformat": 4,
  "nbformat_minor": 0,
  "metadata": {
    "colab": {
      "name": "ML3.ipynb",
      "provenance": [],
      "collapsed_sections": []
    },
    "kernelspec": {
      "name": "python3",
      "display_name": "Python 3"
    },
    "language_info": {
      "name": "python"
    }
  },
  "cells": [
    {
      "cell_type": "markdown",
      "metadata": {
        "id": "mwPhxJ1BnTmq"
      },
      "source": [
        "STEPS TO BUILD A ML MODEL\n",
        "\n",
        "1. LOAD THE DATA\n",
        "2. PREPROCESS THE DATA INCLUDING REMOVAL OF Nan Values etc\n",
        "3. DIVIDING THE DATA INTO TRAINING SET & TESTING SET \n",
        "4. TRAIN OUR ML MODEL\n",
        "5. EVALUATE THE ML MODEL ON THE TEST DATA\n"
      ]
    },
    {
      "cell_type": "code",
      "metadata": {
        "id": "LSpOwK9XfzG7"
      },
      "source": [
        "import pandas as pd;"
      ],
      "execution_count": 1,
      "outputs": []
    },
    {
      "cell_type": "code",
      "metadata": {
        "id": "vNk79F7WoktK"
      },
      "source": [
        "dataframe = pd.read_csv(\"titanic.csv\");"
      ],
      "execution_count": 3,
      "outputs": []
    },
    {
      "cell_type": "code",
      "metadata": {
        "colab": {
          "base_uri": "https://localhost:8080/",
          "height": 110
        },
        "id": "Mm85xz6coqRj",
        "outputId": "563718e2-d1e0-4f55-a62d-d04566b76c74"
      },
      "source": [
        "dataframe.head(2)"
      ],
      "execution_count": 36,
      "outputs": [
        {
          "output_type": "execute_result",
          "data": {
            "text/html": [
              "<div>\n",
              "<style scoped>\n",
              "    .dataframe tbody tr th:only-of-type {\n",
              "        vertical-align: middle;\n",
              "    }\n",
              "\n",
              "    .dataframe tbody tr th {\n",
              "        vertical-align: top;\n",
              "    }\n",
              "\n",
              "    .dataframe thead th {\n",
              "        text-align: right;\n",
              "    }\n",
              "</style>\n",
              "<table border=\"1\" class=\"dataframe\">\n",
              "  <thead>\n",
              "    <tr style=\"text-align: right;\">\n",
              "      <th></th>\n",
              "      <th>PassengerId</th>\n",
              "      <th>Survived</th>\n",
              "      <th>Pclass</th>\n",
              "      <th>Name</th>\n",
              "      <th>Sex</th>\n",
              "      <th>Age</th>\n",
              "      <th>SibSp</th>\n",
              "      <th>Parch</th>\n",
              "      <th>Ticket</th>\n",
              "      <th>Fare</th>\n",
              "      <th>Cabin</th>\n",
              "      <th>Embarked</th>\n",
              "      <th>Child</th>\n",
              "    </tr>\n",
              "  </thead>\n",
              "  <tbody>\n",
              "    <tr>\n",
              "      <th>0</th>\n",
              "      <td>2</td>\n",
              "      <td>1</td>\n",
              "      <td>1</td>\n",
              "      <td>Cumings, Mrs. John Bradley (Florence Briggs Th...</td>\n",
              "      <td>0</td>\n",
              "      <td>38.0</td>\n",
              "      <td>1</td>\n",
              "      <td>0</td>\n",
              "      <td>PC 17599</td>\n",
              "      <td>71.2833</td>\n",
              "      <td>C85</td>\n",
              "      <td>0</td>\n",
              "      <td>0</td>\n",
              "    </tr>\n",
              "    <tr>\n",
              "      <th>1</th>\n",
              "      <td>4</td>\n",
              "      <td>1</td>\n",
              "      <td>1</td>\n",
              "      <td>Futrelle, Mrs. Jacques Heath (Lily May Peel)</td>\n",
              "      <td>0</td>\n",
              "      <td>35.0</td>\n",
              "      <td>1</td>\n",
              "      <td>0</td>\n",
              "      <td>113803</td>\n",
              "      <td>53.1000</td>\n",
              "      <td>C123</td>\n",
              "      <td>2</td>\n",
              "      <td>0</td>\n",
              "    </tr>\n",
              "  </tbody>\n",
              "</table>\n",
              "</div>"
            ],
            "text/plain": [
              "   PassengerId  Survived  Pclass  ... Cabin  Embarked  Child\n",
              "0            2         1       1  ...   C85         0      0\n",
              "1            4         1       1  ...  C123         2      0\n",
              "\n",
              "[2 rows x 13 columns]"
            ]
          },
          "metadata": {},
          "execution_count": 36
        }
      ]
    },
    {
      "cell_type": "markdown",
      "metadata": {
        "id": "sFsEMF5Fo1SY"
      },
      "source": [
        "**SAVING THE PREPROCESSED DATA IN PANDAS**"
      ]
    },
    {
      "cell_type": "code",
      "metadata": {
        "id": "SkWQV4GNo0-c"
      },
      "source": [
        "dataframe.to_csv(\"titanic2.csv\", index=False)"
      ],
      "execution_count": 37,
      "outputs": []
    },
    {
      "cell_type": "markdown",
      "metadata": {
        "id": "kc8z2H9hpb5u"
      },
      "source": [
        "We can Remove Identity Attrbutes like ID, Name , Address etc which add no value to our ML Model"
      ]
    },
    {
      "cell_type": "markdown",
      "metadata": {
        "id": "fzLqP6aFpyRa"
      },
      "source": [
        "SELECTING ONLY PARTICULAR NUMBER OF COLUMNS FROM VAST DATASET"
      ]
    },
    {
      "cell_type": "code",
      "metadata": {
        "colab": {
          "base_uri": "https://localhost:8080/",
          "height": 80
        },
        "id": "-fHDyJUQpijW",
        "outputId": "a477d607-85fe-4e9d-a734-91196a8c16b9"
      },
      "source": [
        "dataframe.head(1)\n",
        "#Clearly 13 attribute columns"
      ],
      "execution_count": 38,
      "outputs": [
        {
          "output_type": "execute_result",
          "data": {
            "text/html": [
              "<div>\n",
              "<style scoped>\n",
              "    .dataframe tbody tr th:only-of-type {\n",
              "        vertical-align: middle;\n",
              "    }\n",
              "\n",
              "    .dataframe tbody tr th {\n",
              "        vertical-align: top;\n",
              "    }\n",
              "\n",
              "    .dataframe thead th {\n",
              "        text-align: right;\n",
              "    }\n",
              "</style>\n",
              "<table border=\"1\" class=\"dataframe\">\n",
              "  <thead>\n",
              "    <tr style=\"text-align: right;\">\n",
              "      <th></th>\n",
              "      <th>PassengerId</th>\n",
              "      <th>Survived</th>\n",
              "      <th>Pclass</th>\n",
              "      <th>Name</th>\n",
              "      <th>Sex</th>\n",
              "      <th>Age</th>\n",
              "      <th>SibSp</th>\n",
              "      <th>Parch</th>\n",
              "      <th>Ticket</th>\n",
              "      <th>Fare</th>\n",
              "      <th>Cabin</th>\n",
              "      <th>Embarked</th>\n",
              "      <th>Child</th>\n",
              "    </tr>\n",
              "  </thead>\n",
              "  <tbody>\n",
              "    <tr>\n",
              "      <th>0</th>\n",
              "      <td>2</td>\n",
              "      <td>1</td>\n",
              "      <td>1</td>\n",
              "      <td>Cumings, Mrs. John Bradley (Florence Briggs Th...</td>\n",
              "      <td>0</td>\n",
              "      <td>38.0</td>\n",
              "      <td>1</td>\n",
              "      <td>0</td>\n",
              "      <td>PC 17599</td>\n",
              "      <td>71.2833</td>\n",
              "      <td>C85</td>\n",
              "      <td>0</td>\n",
              "      <td>0</td>\n",
              "    </tr>\n",
              "  </tbody>\n",
              "</table>\n",
              "</div>"
            ],
            "text/plain": [
              "   PassengerId  Survived  Pclass  ... Cabin  Embarked  Child\n",
              "0            2         1       1  ...   C85         0      0\n",
              "\n",
              "[1 rows x 13 columns]"
            ]
          },
          "metadata": {},
          "execution_count": 38
        }
      ]
    },
    {
      "cell_type": "code",
      "metadata": {
        "id": "1pRBschLqAZJ"
      },
      "source": [
        "dataframe = dataframe[[\"Survived\",\"Pclass\",\"Sex\",\"Age\",\"SibSp\",\"Embarked\",\"Child\"]]"
      ],
      "execution_count": 47,
      "outputs": []
    },
    {
      "cell_type": "code",
      "metadata": {
        "colab": {
          "base_uri": "https://localhost:8080/",
          "height": 142
        },
        "id": "aUUAWwpSrTtG",
        "outputId": "5af1c5c3-21de-43b7-c7d8-80b0c3667cd2"
      },
      "source": [
        "dataframe.head(3)"
      ],
      "execution_count": 49,
      "outputs": [
        {
          "output_type": "execute_result",
          "data": {
            "text/html": [
              "<div>\n",
              "<style scoped>\n",
              "    .dataframe tbody tr th:only-of-type {\n",
              "        vertical-align: middle;\n",
              "    }\n",
              "\n",
              "    .dataframe tbody tr th {\n",
              "        vertical-align: top;\n",
              "    }\n",
              "\n",
              "    .dataframe thead th {\n",
              "        text-align: right;\n",
              "    }\n",
              "</style>\n",
              "<table border=\"1\" class=\"dataframe\">\n",
              "  <thead>\n",
              "    <tr style=\"text-align: right;\">\n",
              "      <th></th>\n",
              "      <th>Survived</th>\n",
              "      <th>Pclass</th>\n",
              "      <th>Sex</th>\n",
              "      <th>Age</th>\n",
              "      <th>SibSp</th>\n",
              "      <th>Embarked</th>\n",
              "      <th>Child</th>\n",
              "    </tr>\n",
              "  </thead>\n",
              "  <tbody>\n",
              "    <tr>\n",
              "      <th>0</th>\n",
              "      <td>1</td>\n",
              "      <td>1</td>\n",
              "      <td>0</td>\n",
              "      <td>38.0</td>\n",
              "      <td>1</td>\n",
              "      <td>0</td>\n",
              "      <td>0</td>\n",
              "    </tr>\n",
              "    <tr>\n",
              "      <th>1</th>\n",
              "      <td>1</td>\n",
              "      <td>1</td>\n",
              "      <td>0</td>\n",
              "      <td>35.0</td>\n",
              "      <td>1</td>\n",
              "      <td>2</td>\n",
              "      <td>0</td>\n",
              "    </tr>\n",
              "    <tr>\n",
              "      <th>2</th>\n",
              "      <td>0</td>\n",
              "      <td>1</td>\n",
              "      <td>1</td>\n",
              "      <td>54.0</td>\n",
              "      <td>0</td>\n",
              "      <td>2</td>\n",
              "      <td>0</td>\n",
              "    </tr>\n",
              "  </tbody>\n",
              "</table>\n",
              "</div>"
            ],
            "text/plain": [
              "   Survived  Pclass  Sex   Age  SibSp  Embarked  Child\n",
              "0         1       1    0  38.0      1         0      0\n",
              "1         1       1    0  35.0      1         2      0\n",
              "2         0       1    1  54.0      0         2      0"
            ]
          },
          "metadata": {},
          "execution_count": 49
        }
      ]
    },
    {
      "cell_type": "markdown",
      "metadata": {
        "id": "s1GLa9p9rXJY"
      },
      "source": [
        "THis is How we Selected only required Attribues and Ignored Others BS"
      ]
    },
    {
      "cell_type": "markdown",
      "metadata": {
        "id": "FPpjNUF2tJ91"
      },
      "source": [
        "dataframe = dataframe[ [\"Column Needed\"] ]"
      ]
    },
    {
      "cell_type": "markdown",
      "metadata": {
        "id": "kE096waotO9e"
      },
      "source": [
        "**Before sending data to ML MODEL we need all Columns into NUMERIC datatype**\n",
        "\n",
        "For that we can use LABEL ENCODER\n",
        "\n",
        "we can change sex of male, female to 0 & 1\n",
        "\n",
        "Embarked Column also is not present as NUMERIC\n"
      ]
    },
    {
      "cell_type": "markdown",
      "metadata": {
        "id": "-1npNahrV23_"
      },
      "source": [
        "LABEL ENCODER is used to create labels in the Columns\n",
        "\n",
        "Sklearn : The libray for traditional machine learning and preprocessing such as Label Encoder, Standardization & Normalization\n"
      ]
    },
    {
      "cell_type": "code",
      "metadata": {
        "id": "ho94eYBGrb8S"
      },
      "source": [
        "import sklearn as sk\n",
        "from sklearn import preprocessing           # import module preprocessing from sklearn"
      ],
      "execution_count": 50,
      "outputs": []
    },
    {
      "cell_type": "code",
      "metadata": {
        "id": "SLoEtAqxWbAA"
      },
      "source": [
        "le = preprocessing.LabelEncoder()           # Instance of Label Encoder Created "
      ],
      "execution_count": 51,
      "outputs": []
    },
    {
      "cell_type": "code",
      "metadata": {
        "id": "ugzoG_uPXb19"
      },
      "source": [
        "dataframe[\"Sex\"] = le.fit_transform(dataframe[\"Sex\"]) # Using Instance of Label encoder  to call fir_transorm method to convert as numeric"
      ],
      "execution_count": 52,
      "outputs": []
    },
    {
      "cell_type": "code",
      "metadata": {
        "colab": {
          "base_uri": "https://localhost:8080/",
          "height": 172
        },
        "id": "XjxGPnZKZlv5",
        "outputId": "430735b1-2d19-4c05-c35d-d52697e90b2f"
      },
      "source": [
        "dataframe.head(4)           # Successfully Coverted to Numeric \n",
        "# 0 Stands for Female, 1 - Male"
      ],
      "execution_count": 53,
      "outputs": [
        {
          "output_type": "execute_result",
          "data": {
            "text/html": [
              "<div>\n",
              "<style scoped>\n",
              "    .dataframe tbody tr th:only-of-type {\n",
              "        vertical-align: middle;\n",
              "    }\n",
              "\n",
              "    .dataframe tbody tr th {\n",
              "        vertical-align: top;\n",
              "    }\n",
              "\n",
              "    .dataframe thead th {\n",
              "        text-align: right;\n",
              "    }\n",
              "</style>\n",
              "<table border=\"1\" class=\"dataframe\">\n",
              "  <thead>\n",
              "    <tr style=\"text-align: right;\">\n",
              "      <th></th>\n",
              "      <th>Survived</th>\n",
              "      <th>Pclass</th>\n",
              "      <th>Sex</th>\n",
              "      <th>Age</th>\n",
              "      <th>SibSp</th>\n",
              "      <th>Embarked</th>\n",
              "      <th>Child</th>\n",
              "    </tr>\n",
              "  </thead>\n",
              "  <tbody>\n",
              "    <tr>\n",
              "      <th>0</th>\n",
              "      <td>1</td>\n",
              "      <td>1</td>\n",
              "      <td>0</td>\n",
              "      <td>38.0</td>\n",
              "      <td>1</td>\n",
              "      <td>0</td>\n",
              "      <td>0</td>\n",
              "    </tr>\n",
              "    <tr>\n",
              "      <th>1</th>\n",
              "      <td>1</td>\n",
              "      <td>1</td>\n",
              "      <td>0</td>\n",
              "      <td>35.0</td>\n",
              "      <td>1</td>\n",
              "      <td>2</td>\n",
              "      <td>0</td>\n",
              "    </tr>\n",
              "    <tr>\n",
              "      <th>2</th>\n",
              "      <td>0</td>\n",
              "      <td>1</td>\n",
              "      <td>1</td>\n",
              "      <td>54.0</td>\n",
              "      <td>0</td>\n",
              "      <td>2</td>\n",
              "      <td>0</td>\n",
              "    </tr>\n",
              "    <tr>\n",
              "      <th>3</th>\n",
              "      <td>1</td>\n",
              "      <td>3</td>\n",
              "      <td>0</td>\n",
              "      <td>4.0</td>\n",
              "      <td>1</td>\n",
              "      <td>2</td>\n",
              "      <td>1</td>\n",
              "    </tr>\n",
              "  </tbody>\n",
              "</table>\n",
              "</div>"
            ],
            "text/plain": [
              "   Survived  Pclass  Sex   Age  SibSp  Embarked  Child\n",
              "0         1       1    0  38.0      1         0      0\n",
              "1         1       1    0  35.0      1         2      0\n",
              "2         0       1    1  54.0      0         2      0\n",
              "3         1       3    0   4.0      1         2      1"
            ]
          },
          "metadata": {},
          "execution_count": 53
        }
      ]
    },
    {
      "cell_type": "code",
      "metadata": {
        "id": "Ap-xHhNncxzP"
      },
      "source": [
        "# LET'S convert Embarked also to numeric\n",
        "le = preprocessing.LabelEncoder()\n",
        "dataframe[\"Embarked\"] = le.fit_transform(dataframe[\"Embarked\"])"
      ],
      "execution_count": 55,
      "outputs": []
    },
    {
      "cell_type": "code",
      "metadata": {
        "colab": {
          "base_uri": "https://localhost:8080/",
          "height": 110
        },
        "id": "pDccsdmVduV6",
        "outputId": "e010aae0-98d7-4d0b-9121-9d2cd89c532d"
      },
      "source": [
        "dataframe.head(2)"
      ],
      "execution_count": 56,
      "outputs": [
        {
          "output_type": "execute_result",
          "data": {
            "text/html": [
              "<div>\n",
              "<style scoped>\n",
              "    .dataframe tbody tr th:only-of-type {\n",
              "        vertical-align: middle;\n",
              "    }\n",
              "\n",
              "    .dataframe tbody tr th {\n",
              "        vertical-align: top;\n",
              "    }\n",
              "\n",
              "    .dataframe thead th {\n",
              "        text-align: right;\n",
              "    }\n",
              "</style>\n",
              "<table border=\"1\" class=\"dataframe\">\n",
              "  <thead>\n",
              "    <tr style=\"text-align: right;\">\n",
              "      <th></th>\n",
              "      <th>Survived</th>\n",
              "      <th>Pclass</th>\n",
              "      <th>Sex</th>\n",
              "      <th>Age</th>\n",
              "      <th>SibSp</th>\n",
              "      <th>Embarked</th>\n",
              "      <th>Child</th>\n",
              "    </tr>\n",
              "  </thead>\n",
              "  <tbody>\n",
              "    <tr>\n",
              "      <th>0</th>\n",
              "      <td>1</td>\n",
              "      <td>1</td>\n",
              "      <td>0</td>\n",
              "      <td>38.0</td>\n",
              "      <td>1</td>\n",
              "      <td>0</td>\n",
              "      <td>0</td>\n",
              "    </tr>\n",
              "    <tr>\n",
              "      <th>1</th>\n",
              "      <td>1</td>\n",
              "      <td>1</td>\n",
              "      <td>0</td>\n",
              "      <td>35.0</td>\n",
              "      <td>1</td>\n",
              "      <td>2</td>\n",
              "      <td>0</td>\n",
              "    </tr>\n",
              "  </tbody>\n",
              "</table>\n",
              "</div>"
            ],
            "text/plain": [
              "   Survived  Pclass  Sex   Age  SibSp  Embarked  Child\n",
              "0         1       1    0  38.0      1         0      0\n",
              "1         1       1    0  35.0      1         2      0"
            ]
          },
          "metadata": {},
          "execution_count": 56
        }
      ]
    },
    {
      "cell_type": "code",
      "metadata": {
        "id": "tX_1lZvneU_o"
      },
      "source": [
        "# Lets Keep everything except Survived as Input so keep it on X Axis \n",
        "# Survived Gonna be Output so keep it on Y axis \n",
        "\n",
        "X =  dataframe.drop(\"Survived\", axis = 1)\n",
        "Y = dataframe[\"Survived\"]"
      ],
      "execution_count": 57,
      "outputs": []
    },
    {
      "cell_type": "markdown",
      "metadata": {
        "id": "iOvHRlREfgMu"
      },
      "source": [
        "NOW SPLIT DATA INTO TRAINING & TESTING DATA USING model_selection "
      ]
    },
    {
      "cell_type": "code",
      "metadata": {
        "id": "VDiob9XAfcok"
      },
      "source": [
        "from sklearn.model_selection import train_test_split\n"
      ],
      "execution_count": 58,
      "outputs": []
    },
    {
      "cell_type": "code",
      "metadata": {
        "id": "BH-MWoszhsU4"
      },
      "source": [
        "X_train, X_test , Y_train, Y_test = train_test_split(X,Y)\n",
        "\n",
        "# WE used train_test_split() to split our X & Y columns into 4 variables namely\n",
        "# X_train Y_train\n",
        "# X_test  Y_split"
      ],
      "execution_count": 59,
      "outputs": []
    },
    {
      "cell_type": "markdown",
      "metadata": {
        "id": "-jTlWtonn56Z"
      },
      "source": [
        "**KNN ML MODEL**"
      ]
    },
    {
      "cell_type": "code",
      "metadata": {
        "id": "NvA8I43UiQvd"
      },
      "source": [
        " from sklearn.neighbors import KNeighborsClassifier "
      ],
      "execution_count": 60,
      "outputs": []
    },
    {
      "cell_type": "markdown",
      "metadata": {
        "id": "ZOiGd8RbpNUS"
      },
      "source": [
        "model.fit(X,Y) to train our model \n",
        "\n",
        "Training the KNN model "
      ]
    },
    {
      "cell_type": "code",
      "metadata": {
        "colab": {
          "base_uri": "https://localhost:8080/"
        },
        "id": "8RaLE6xSpT_A",
        "outputId": "4b025a4e-9bb8-4f85-bba2-2479a231d43b"
      },
      "source": [
        "model = KNeighborsClassifier (n_neighbors = 3)\n",
        "# Here 3 is value of k which is calculated using algo method \n",
        "model.fit(X_train,Y_train)"
      ],
      "execution_count": 61,
      "outputs": [
        {
          "output_type": "execute_result",
          "data": {
            "text/plain": [
              "KNeighborsClassifier(algorithm='auto', leaf_size=30, metric='minkowski',\n",
              "                     metric_params=None, n_jobs=None, n_neighbors=3, p=2,\n",
              "                     weights='uniform')"
            ]
          },
          "metadata": {},
          "execution_count": 61
        }
      ]
    },
    {
      "cell_type": "markdown",
      "metadata": {
        "id": "XmwmskK1qZWH"
      },
      "source": [
        "TESTING THE KNN Model\n",
        "\n",
        "model.predict(X,Y)"
      ]
    },
    {
      "cell_type": "code",
      "metadata": {
        "id": "9YTqqF_UqbmY"
      },
      "source": [
        "# we will save the predicted values in Y_predicted and then compare it with Y_test to get the accuracy\n",
        "\n",
        "Y_predicted =   model.predict(X_test)"
      ],
      "execution_count": 62,
      "outputs": []
    },
    {
      "cell_type": "code",
      "metadata": {
        "id": "ztyAf4jnr2nP"
      },
      "source": [
        "from sklearn.metrics import accuracy_score"
      ],
      "execution_count": 64,
      "outputs": []
    },
    {
      "cell_type": "code",
      "metadata": {
        "colab": {
          "base_uri": "https://localhost:8080/"
        },
        "id": "644Uq2sbr6kR",
        "outputId": "527dba98-d534-4f53-de00-a471ae226829"
      },
      "source": [
        "print(accuracy_score(Y_predicted, Y_test)*100)"
      ],
      "execution_count": 65,
      "outputs": [
        {
          "output_type": "stream",
          "name": "stdout",
          "text": [
            "76.08695652173914\n"
          ]
        }
      ]
    }
  ]
}